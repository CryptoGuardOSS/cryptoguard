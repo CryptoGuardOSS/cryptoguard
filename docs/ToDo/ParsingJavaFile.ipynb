{
 "cells": [
  {
   "cell_type": "markdown",
   "metadata": {},
   "source": [
    "# Parsing Java File\n",
    "---\n",
    "* [JavaParser](https://javaparser.org/)\n",
    "* [Maven Search](https://search.maven.org/search?q=com.github.javaparser)\n",
    "* [Searched](https://github.com/javaparser/javaparser/blob/69a2e0ed4e0f260ccd61cbb2594b2c3069e47990/javaparser-core/src/main/java/com/github/javaparser/ast/CompilationUnit.java)\n",
    "* [StackOverflow Search](https://stackoverflow.com/questions/2206065/java-parse-java-source-code-extract-methods)"
   ]
  },
  {
   "cell_type": "code",
   "execution_count": 1,
   "metadata": {},
   "outputs": [],
   "source": [
    "%maven com.github.javaparser:javaparser-core:3.16.1\n",
    "\n",
    "import com.github.javaparser.ast.CompilationUnit;\n",
    "import com.github.javaparser.StaticJavaParser;\n",
    "\n",
    "import java.util.Optional;"
   ]
  },
  {
   "cell_type": "code",
   "execution_count": 2,
   "metadata": {},
   "outputs": [],
   "source": [
    "public void print(String in) {\n",
    "\tSystem.out.println(in);\n",
    "}"
   ]
  },
  {
   "cell_type": "markdown",
   "metadata": {},
   "source": [
    "## Retrieving Java Annotations\n",
    "### Original\n",
    "```java\n",
    "public Optional<AnnotationDeclaration> getAnnotationDeclarationByName(String annotationName) {\n",
    "        return getTypes().stream().filter(type -> type.getNameAsString().equals(annotationName) && type instanceof AnnotationDeclaration).findFirst().map(t -> (AnnotationDeclaration) t);\n",
    "    }\n",
    "```\n",
    "\n",
    "### Modified\n",
    "```java\n",
    "//TODO - Need to determine if there is a list of AnnotationDeclarations\n",
    "\n",
    "public Optional<AnnotationDeclaration> getAnnotationDeclarationByName() {\n",
    "        return getTypes().stream().filter(type ->type instanceof AnnotationDeclaration).findFirst().map(t -> (AnnotationDeclaration) t);\n",
    "    }\n",
    "```"
   ]
  },
  {
   "cell_type": "code",
   "execution_count": 3,
   "metadata": {},
   "outputs": [
    {
     "name": "stdout",
     "output_type": "stream",
     "text": [
      "/home/maister/test.java\n"
     ]
    }
   ],
   "source": [
    "String path = System.getProperty(\"user.dir\") + \"/\" + \"test.java\";\n",
    "print(path);"
   ]
  },
  {
   "cell_type": "code",
   "execution_count": 4,
   "metadata": {},
   "outputs": [],
   "source": [
    "CompilationUnit cu = StaticJavaParser.parse(new File(path));"
   ]
  },
  {
   "cell_type": "code",
   "execution_count": 10,
   "metadata": {},
   "outputs": [
    {
     "name": "stdout",
     "output_type": "stream",
     "text": [
      "null\n"
     ]
    }
   ],
   "source": [
    "String test = cu.getPackageDeclaration().orElse(null)\n",
    "\t!= null \n",
    "\t? cu.getPackageDeclaration().get().getName().asString() \n",
    "\t: \"null\";\n",
    "\n",
    "print(test);"
   ]
  }
 ],
 "metadata": {
  "kernelspec": {
   "display_name": "Java",
   "language": "java",
   "name": "java"
  },
  "language_info": {
   "codemirror_mode": "java",
   "file_extension": ".jshell",
   "mimetype": "text/x-java-source",
   "name": "Java",
   "pygments_lexer": "java",
   "version": "11.0.6+10"
  }
 },
 "nbformat": 4,
 "nbformat_minor": 4
}
