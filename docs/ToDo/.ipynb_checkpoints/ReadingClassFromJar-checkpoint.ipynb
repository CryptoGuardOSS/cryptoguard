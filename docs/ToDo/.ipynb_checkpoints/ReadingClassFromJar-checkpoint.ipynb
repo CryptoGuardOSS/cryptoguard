{
 "cells": [
  {
   "cell_type": "markdown",
   "metadata": {},
   "source": [
    "title=ReadingClassFromJar\n",
    "date=2020-06-09\n",
    "type=post\n",
    "tags=blog\n",
    "use=project\n",
    "project=CryptoGuard\n",
    "feel=unknown\n",
    "status=published\n",
    "~~~~~~"
   ]
  },
  {
   "cell_type": "markdown",
   "metadata": {},
   "source": [
    "# Testing Reading Java Jar File"
   ]
  },
  {
   "cell_type": "code",
   "execution_count": 57,
   "metadata": {},
   "outputs": [],
   "source": [
    "import java.util.jar.JarFile;\n",
    "import java.util.jar.Manifest;\n",
    "import java.util.zip.ZipEntry;\n",
    "import java.util.jar.JarEntry;\n",
    "import java.util.zip.ZipFile;\n",
    "import java.io.InputStream;\n",
    "import java.nio.file.*;\n",
    "import java.util.jar.JarInputStream;\n",
    "import java.nio.file.Paths;\n",
    "\n",
    "%maven org.apache.bcel:bcel:6.4.0\n",
    "%maven commons-io:commons-io:2.4\n",
    "\n",
    "import org.apache.bcel.Repository;\n",
    "import org.apache.bcel.classfile.JavaClass;\n",
    "import org.apache.commons.io.IOUtils;\n",
    "\n",
    "%maven org.ow2.asm:asm:8.0.1\n",
    "%maven org.ow2.asm:asm-tree:8.0.1\n",
    "\n",
    "import org.objectweb.asm.ClassReader;\n",
    "import org.objectweb.asm.tree.ClassNode;"
   ]
  },
  {
   "cell_type": "code",
   "execution_count": 2,
   "metadata": {},
   "outputs": [],
   "source": [
    "public String getJarFile(String file) {\n",
    "\treturn System.getProperty(\"user.dir\") + \"/\" + file;\n",
    "}\n",
    "public String getJar() {\n",
    "\treturn getJarFile(\"cryptoguard.jar\");\n",
    "}"
   ]
  },
  {
   "cell_type": "code",
   "execution_count": 3,
   "metadata": {},
   "outputs": [],
   "source": [
    "public void print(Object obj) {\n",
    "\tSystem.out.println(obj);\n",
    "}"
   ]
  },
  {
   "cell_type": "code",
   "execution_count": 66,
   "metadata": {},
   "outputs": [
    {
     "name": "stdout",
     "output_type": "stream",
     "text": [
      "/home/maister/cryptoguard.jar\n",
      "Manifest-Version\n",
      "Main-Class\n",
      "frontEnd.Interface.EntryPoint\n"
     ]
    }
   ],
   "source": [
    "String jarFile = getJar();\n",
    "print(jarFile);\n",
    "\n",
    "Manifest m = new JarFile(jarFile).getManifest();\n",
    "\n",
    "var main = m.getMainAttributes();\n",
    "\n",
    "for (var key:main.keySet())\n",
    "\tprint(key);\n",
    "\n",
    "var entry = main.getValue(\"Main-Class\");\n",
    "\n",
    "print(entry);\n",
    "\n",
    "\n",
    "//JavaClass sample = Repository.lookupClass(entry);"
   ]
  },
  {
   "cell_type": "code",
   "execution_count": 24,
   "metadata": {},
   "outputs": [],
   "source": [
    "public static InputStream raw(String zipFilePath, String relativeFilePath) {\n",
    "    try {\n",
    "        ZipFile zipFile = new ZipFile(zipFilePath);\n",
    "        Enumeration<? extends ZipEntry> e = zipFile.entries();\n",
    "\n",
    "        while (e.hasMoreElements()) {\n",
    "            ZipEntry entry = (ZipEntry) e.nextElement();\n",
    "\t\t\t//print(entry.getName());\n",
    "            // if the entry is not directory and matches relative file then extract it\n",
    "            if (!entry.isDirectory() && entry.getName().equals(relativeFilePath)) {\n",
    "                //BufferedInputStream bis = new BufferedInputStream(zipFile.getInputStream(entry));\n",
    "\t\t\t\treturn zipFile.getInputStream(entry);\n",
    "                // Read the file\n",
    "                    // With Apache Commons I/O\n",
    "                 //String fileContentsStr = IOUtils.toString(bis, \"UTF-8\");\n",
    "\n",
    "                    // With Guava\n",
    "                //String fileContentsStr = new String(ByteStreams.toByteArray(bis),Charsets.UTF_8);\n",
    "                // close the input stream.\n",
    "                //bis.close();\n",
    "                //return fileContentsStr;\n",
    "            } else {\n",
    "                continue;\n",
    "            }\n",
    "        }\n",
    "    } catch (IOException e) {\n",
    "        print(\"IOError :\" + e);\n",
    "        e.printStackTrace();\n",
    "    }\n",
    "    return null;\n",
    "}"
   ]
  },
  {
   "cell_type": "code",
   "execution_count": 82,
   "metadata": {},
   "outputs": [],
   "source": [
    "public ClassNode readJarPath(Path path, String classname) throws IOException {\n",
    "\t//Application application = new Application();\n",
    "\tprint(\"Looking for class: \"+classname);\n",
    "\ttry (JarInputStream in = new JarInputStream(new BufferedInputStream(Files.newInputStream(path)))) {\n",
    "\t\tJarEntry entry;\n",
    "\t\twhile ((entry = in.getNextJarEntry()) != null) {\n",
    "\t\t\tString name = entry.getName();\n",
    "\t\t\tif (!name.endsWith(\".class\")) continue;\n",
    "\t\t\telse if (!name.contains(classname)) continue;\n",
    "\n",
    "\t\t\tname = name.replaceAll(\".class$\", \"\");\n",
    "\n",
    "\t\t\tClassNode node = new ClassNode();\n",
    "\t\t\tClassReader reader = new ClassReader(in);\n",
    "\t\t\treader.accept(node, ClassReader.SKIP_DEBUG);\n",
    "\t\t\treturn node;\n",
    "\n",
    "\t\t\t//application.classes.put(name, node);\n",
    "\t\t}\n",
    "\t}\n",
    "\treturn null;\n",
    "\t//return application;\n",
    "}\n",
    "public ClassNode readJarNode(String path, String classname) throws IOException {\n",
    "\treturn readJarPath(new File(path).toPath(),classname.replace(\".\",\"/\")+\".class\");\n",
    "}"
   ]
  },
  {
   "cell_type": "code",
   "execution_count": 25,
   "metadata": {
    "collapsed": true,
    "jupyter": {
     "outputs_hidden": true,
     "source_hidden": true
    }
   },
   "outputs": [
    {
     "name": "stdout",
     "output_type": "stream",
     "text": [
      "false\n",
      "java.util.zip.ZipFile$ZipFileInflaterInputStream\n"
     ]
    }
   ],
   "source": [
    "//readZipFile(jarFile, entry)\n",
    "var contents = raw(jarFile, entry.replace(\".\",\"/\")+\".class\");\n",
    "\n",
    "//JavaClass sample = Repository.lookupClass(entry);\n",
    "print(contents == null);\n",
    "print(contents.getClass().getName());\n",
    "\n",
    "ClassReader read = new ClassReader(contents);"
   ]
  },
  {
   "cell_type": "code",
   "execution_count": 39,
   "metadata": {
    "collapsed": true,
    "jupyter": {
     "outputs_hidden": true,
     "source_hidden": true
    }
   },
   "outputs": [
    {
     "ename": "EvalException",
     "evalue": "null",
     "output_type": "error",
     "traceback": [
      "\u001b[1m\u001b[31m---------------------------------------------------------------------------\u001b[0m",
      "\u001b[1m\u001b[31mjava.lang.NullPointerException: null\u001b[0m",
      "\u001b[1m\u001b[31m\tat .(#103:1)\u001b[0m"
     ]
    }
   ],
   "source": [
    "print(read.getClassName());\n",
    "for (String in:read.getInterfaces())\n",
    "\tprint(in);\n",
    "print(read.getAccess());\n",
    "\n",
    "ClassNode node = new ClassNode();\n",
    "read.accept(node, ClassReader.SKIP_DEBUG);"
   ]
  },
  {
   "cell_type": "code",
   "execution_count": 83,
   "metadata": {},
   "outputs": [
    {
     "name": "stdout",
     "output_type": "stream",
     "text": [
      "/home/maister/cryptoguard.jar\n",
      "Looking for class: frontEnd/Interface/EntryPoint.class\n"
     ]
    }
   ],
   "source": [
    "print(jarFile);\n",
    "ClassNode klass = readJarNode(jarFile, entry);"
   ]
  },
  {
   "cell_type": "code",
   "execution_count": 97,
   "metadata": {},
   "outputs": [
    {
     "name": "stdout",
     "output_type": "stream",
     "text": [
      "frontEnd/Interface/EntryPoint\n",
      "org.objectweb.asm.tree.VarInsnNode@36db219c\n",
      "org.objectweb.asm.tree.MethodInsnNode@381cc937\n",
      "org.objectweb.asm.tree.VarInsnNode@3c234aec\n",
      "org.objectweb.asm.tree.FieldInsnNode@7921c30c\n",
      "org.objectweb.asm.tree.LdcInsnNode@1699da75\n",
      "org.objectweb.asm.tree.MethodInsnNode@4812fce0\n",
      "org.objectweb.asm.tree.VarInsnNode@6e40bb24\n",
      "org.objectweb.asm.tree.FieldInsnNode@190e3c43\n",
      "org.objectweb.asm.tree.MethodInsnNode@419c1765\n",
      "org.objectweb.asm.tree.MethodInsnNode@1e36164a\n",
      "org.objectweb.asm.tree.JumpInsnNode@75441733\n",
      "org.objectweb.asm.tree.InsnNode@1d40c1fc\n",
      "org.objectweb.asm.tree.JumpInsnNode@3cc6da0e\n",
      "org.objectweb.asm.tree.LabelNode@12ec0f9a\n",
      "org.objectweb.asm.tree.FrameNode@47c47f7b\n",
      "org.objectweb.asm.tree.InsnNode@5c90095e\n",
      "org.objectweb.asm.tree.LabelNode@560cae68\n",
      "org.objectweb.asm.tree.FrameNode@24eeebec\n",
      "org.objectweb.asm.tree.VarInsnNode@403577ad\n",
      "org.objectweb.asm.tree.LabelNode@1cb34c0c\n",
      "org.objectweb.asm.tree.VarInsnNode@2fffce1c\n",
      "org.objectweb.asm.tree.MethodInsnNode@7c1de184\n",
      "org.objectweb.asm.tree.VarInsnNode@17fe69b5\n",
      "org.objectweb.asm.tree.FieldInsnNode@112b846a\n",
      "org.objectweb.asm.tree.VarInsnNode@40f5377d\n",
      "org.objectweb.asm.tree.MethodInsnNode@53f7ff26\n",
      "org.objectweb.asm.tree.MethodInsnNode@3720972c\n",
      "org.objectweb.asm.tree.VarInsnNode@7ae55d76\n",
      "org.objectweb.asm.tree.JumpInsnNode@13c2c388\n",
      "org.objectweb.asm.tree.FieldInsnNode@7fa00019\n",
      "org.objectweb.asm.tree.MethodInsnNode@4c8a6136\n",
      "org.objectweb.asm.tree.MethodInsnNode@1cd49b3c\n",
      "org.objectweb.asm.tree.MethodInsnNode@190fd5ad\n",
      "org.objectweb.asm.tree.LabelNode@66d0ae5d\n",
      "org.objectweb.asm.tree.FrameNode@79cce060\n",
      "org.objectweb.asm.tree.JumpInsnNode@41f9991e\n",
      "org.objectweb.asm.tree.LabelNode@26bc8e31\n",
      "org.objectweb.asm.tree.FrameNode@457d7efd\n",
      "org.objectweb.asm.tree.VarInsnNode@5bac49d2\n",
      "org.objectweb.asm.tree.VarInsnNode@56100ad0\n",
      "org.objectweb.asm.tree.MethodInsnNode@149fcb25\n",
      "org.objectweb.asm.tree.VarInsnNode@3a3bd5dd\n",
      "org.objectweb.asm.tree.JumpInsnNode@360e991\n",
      "org.objectweb.asm.tree.VarInsnNode@55f035a7\n",
      "org.objectweb.asm.tree.MethodInsnNode@3fdc1adf\n",
      "org.objectweb.asm.tree.MethodInsnNode@5bada5c4\n",
      "org.objectweb.asm.tree.MethodInsnNode@5f05e341\n",
      "org.objectweb.asm.tree.MethodInsnNode@b8ca80b\n",
      "org.objectweb.asm.tree.LabelNode@54d94147\n",
      "org.objectweb.asm.tree.FrameNode@626c4d9d\n",
      "org.objectweb.asm.tree.InsnNode@1283b57a\n"
     ]
    }
   ],
   "source": [
    "print(klass.name);\n",
    "for (var mtd:klass.methods)\n",
    "\tif (mtd.name.equals(\"main\"))\n",
    "\t\tfor (int ktr=0;ktr<mtd.instructions.size();ktr++)\n",
    "\t\t\tprint(mtd.instructions.get(ktr));"
   ]
  }
 ],
 "metadata": {
  "kernelspec": {
   "display_name": "Java",
   "language": "java",
   "name": "java"
  },
  "language_info": {
   "codemirror_mode": "java",
   "file_extension": ".jshell",
   "mimetype": "text/x-java-source",
   "name": "Java",
   "pygments_lexer": "java",
   "version": "11.0.7+10"
  }
 },
 "nbformat": 4,
 "nbformat_minor": 4
}
