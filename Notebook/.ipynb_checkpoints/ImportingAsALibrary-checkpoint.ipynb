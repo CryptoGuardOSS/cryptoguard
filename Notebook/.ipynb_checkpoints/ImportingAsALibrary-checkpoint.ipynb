{
 "cells": [
  {
   "cell_type": "code",
   "execution_count": 3,
   "metadata": {},
   "outputs": [],
   "source": [
    "//Importing Cryptoguard\n",
    "//List<String> added = %jars /home/*/release/*.jar\n",
    "\n",
    "List<String> added = %jars ../release/*.jar"
   ]
  },
  {
   "cell_type": "code",
   "execution_count": 22,
   "metadata": {},
   "outputs": [
    {
     "ename": "CompilationException",
     "evalue": "",
     "output_type": "error",
     "traceback": [
      "\u001b[1m\u001b[30m|   \u001b[1m\u001b[30mimport static \u001b[0m\u001b[1m\u001b[30m\u001b[41mtest.TestUtilities\u001b[0m\u001b[1m\u001b[30m.*;\u001b[0m",
      "\u001b[1m\u001b[31mcannot find symbol\u001b[0m",
      "\u001b[1m\u001b[31m  symbol:   class TestUtilities\u001b[0m",
      ""
     ]
    }
   ],
   "source": [
    "import util.Utils;\n",
    "\n",
    "import java.io.File;\n",
    "import java.nio.charset.StandardCharsets;\n",
    "import java.nio.file.Files;\n",
    "import java.nio.file.Paths;\n",
    "import java.util.List;\n",
    "\n",
    "import frontEnd.MessagingSystem.routing.Listing;\n",
    "import frontEnd.MessagingSystem.routing.structure.Default.Report;\n",
    "import frontEnd.MessagingSystem.routing.structure.Scarf.AnalyzerReport;\n",
    "import frontEnd.argsIdentifier;\n",
    "import rule.engine.EngineType;\n",
    "import static util.Utils.makeArg;"
   ]
  },
  {
   "cell_type": "code",
   "execution_count": 16,
   "metadata": {},
   "outputs": [],
   "source": [
    "boolean isLinux = System.getProperty(\"os.name\").equals(\"Linux\");"
   ]
  },
  {
   "cell_type": "code",
   "execution_count": 11,
   "metadata": {},
   "outputs": [
    {
     "name": "stdout",
     "output_type": "stream",
     "text": [
      "Cryptoguard Version: V03.12.01\n"
     ]
    }
   ],
   "source": [
    "System.out.println(\"Cryptoguard Version: \" + Utils.projectVersion);"
   ]
  },
  {
   "cell_type": "code",
   "execution_count": 28,
   "metadata": {},
   "outputs": [
    {
     "name": "stdout",
     "output_type": "stream",
     "text": [
      "java -jar cryptoguard.jar  -in jar  -s /Jar/Source/Path  -m SX  -o /file/Out/Path  -st  -t  -X  -n \n"
     ]
    }
   ],
   "source": [
    "//Jar Test Arguments\n",
    "//Taken from EntryPointTest_JAR.main_VerySimple_Scarf\n",
    "String args =\n",
    "    makeArg(argsIdentifier.FORMAT, EngineType.JAR) +\n",
    "    makeArg(argsIdentifier.SOURCE, \"/Jar/Source/Path/test.jar\") +\n",
    "    //makeArg(argsIdentifier.DEPENDENCY, \"/Dep/Source/Path\") +\n",
    "    makeArg(argsIdentifier.FORMATOUT, Listing.ScarfXML) +\n",
    "    makeArg(argsIdentifier.OUT, \"/file/Out/Path\") +\n",
    "    makeArg(argsIdentifier.STREAM) +\n",
    "    //This ensures the Android SDK path isn't called \n",
    "    //makeArg(argsIdentifier.ANDROID, \"/InvalidPath/\") +\n",
    "    makeArg(argsIdentifier.TIMEMEASURE) +\n",
    "    makeArg(argsIdentifier.PRETTY);\n",
    "\n",
    "System.out.println(\"java -jar cryptoguard.jar \" + args)"
   ]
  },
  {
   "cell_type": "code",
   "execution_count": 30,
   "metadata": {},
   "outputs": [
    {
     "name": "stdout",
     "output_type": "stream",
     "text": [
      "java -jar cryptoguard.jar  -in apk  -s /Path/Source/APK.apk  -m L  -X  -o /file/Out/Path.txt \n"
     ]
    }
   ],
   "source": [
    "//APK Test Arguments\n",
    "//Taken from EntryPointTest_APK.main_TestableApk_Legacy\n",
    "String args =\n",
    "    makeArg(argsIdentifier.FORMAT, EngineType.APK) +\n",
    "    makeArg(argsIdentifier.SOURCE, \"/Path/Source/APK.apk\") +\n",
    "    makeArg(argsIdentifier.FORMATOUT, Listing.Legacy) +\n",
    "    makeArg(argsIdentifier.NOEXIT) +\n",
    "    makeArg(argsIdentifier.OUT, \"/file/Out/Path.txt\");\n",
    "\n",
    "System.out.println(\"java -jar cryptoguard.jar \" + args)"
   ]
  },
  {
   "cell_type": "code",
   "execution_count": 31,
   "metadata": {},
   "outputs": [
    {
     "name": "stdout",
     "output_type": "stream",
     "text": [
      "java -jar cryptoguard.jar  -in class  -m SX  -s /Java/Class/Source/Path/test.class  -android /InvalidPath/  -vv  -st  -n  -o /file/Out/Path.xml \n"
     ]
    }
   ],
   "source": [
    "//Java Class Test Arguments\n",
    "//Taken from EntryPointTest_CLASS.main_TestableFile_VerySimple\n",
    "String args =\n",
    "    makeArg(argsIdentifier.FORMAT, EngineType.CLASSFILES) +\n",
    "    makeArg(argsIdentifier.FORMATOUT, Listing.ScarfXML) +\n",
    "    makeArg(argsIdentifier.SOURCE, \"/Java/Class/Source/Path/test.class\") +\n",
    "    //This ensures the Android SDK path isn't called \n",
    "    makeArg(argsIdentifier.ANDROID, \"/InvalidPath/\") +\n",
    "    makeArg(argsIdentifier.VERYVERBOSE) +\n",
    "    makeArg(argsIdentifier.STREAM) +\n",
    "    makeArg(argsIdentifier.PRETTY) +\n",
    "    makeArg(argsIdentifier.OUT, \"/file/Out/Path.xml\");\n",
    "\n",
    "System.out.println(\"java -jar cryptoguard.jar \" + args)"
   ]
  },
  {
   "cell_type": "code",
   "execution_count": null,
   "metadata": {},
   "outputs": [],
   "source": [
    "//Java Test Arguments\n",
    "//Taken from EntryPointTest_JAVA.main_TestableFile_VerySimple\n",
    "String args =\n",
    "    makeArg(argsIdentifier.FORMAT, EngineType.JAVAFILES) +\n",
    "    makeArg(argsIdentifier.FORMATOUT, Listing.Default) +\n",
    "    makeArg(argsIdentifier.SOURCE, \"/Java/Source/Path/test.java\") +\n",
    "    makeArg(argsIdentifier.NOEXIT) +\n",
    "    makeArg(argsIdentifier.PRETTY) +\n",
    "    makeArg(argsIdentifier.VERYVERBOSE) +\n",
    "    makeArg(argsIdentifier.OUT, \"/file/Out/Path.json\");\n",
    "\n",
    "System.out.println(\"java -jar cryptoguard.jar \" + args)"
   ]
  }
 ],
 "metadata": {
  "kernelspec": {
   "display_name": "Java",
   "language": "java",
   "name": "java"
  },
  "language_info": {
   "codemirror_mode": "java",
   "file_extension": ".jshell",
   "mimetype": "text/x-java-source",
   "name": "Java",
   "pygments_lexer": "java",
   "version": "11.0.6+10"
  }
 },
 "nbformat": 4,
 "nbformat_minor": 2
}
